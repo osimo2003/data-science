{
  "nbformat": 4,
  "nbformat_minor": 0,
  "metadata": {
    "colab": {
      "provenance": [],
      "authorship_tag": "ABX9TyMIQ5dFIGxySr7WSQMClI6j",
      "include_colab_link": true
    },
    "kernelspec": {
      "name": "python3",
      "display_name": "Python 3"
    },
    "language_info": {
      "name": "python"
    }
  },
  "cells": [
    {
      "cell_type": "markdown",
      "metadata": {
        "id": "view-in-github",
        "colab_type": "text"
      },
      "source": [
        "<a href=\"https://colab.research.google.com/github/osimo2003/data-science/blob/main/Python_projects_Demo.ipynb\" target=\"_parent\"><img src=\"https://colab.research.google.com/assets/colab-badge.svg\" alt=\"Open In Colab\"/></a>"
      ]
    },
    {
      "cell_type": "code",
      "execution_count": 1,
      "metadata": {
        "colab": {
          "base_uri": "https://localhost:8080/"
        },
        "id": "iMdnRElyLFGd",
        "outputId": "31107826-db18-440e-c591-57dc49336241"
      },
      "outputs": [
        {
          "output_type": "stream",
          "name": "stdout",
          "text": [
            "Welcome to the Quiz Bot!\n",
            "Answer the questions and see your score!\n",
            "\n",
            "1) What is the capital of France? Paris\n",
            "Correct!\n",
            "2) What is 5 + 7? 12\n",
            "Correct!\n",
            "3) Which planet is known as the Red Planet? jupiter\n",
            "Not quite! Jupiter is the largest planet, not the red one.\n",
            "\n",
            "You got 2 out of 3 correct.\n",
            "Good work, but you can do even better!\n"
          ]
        }
      ],
      "source": [
        "print(\"Welcome to the Quiz Bot!\")\n",
        "print(\"Answer the questions and see your score!\\n\")\n",
        "\n",
        "score = 0  # Start with zero points\n",
        "\n",
        "# Question 1\n",
        "answer1 = input(\"1) What is the capital of France? \").lower()\n",
        "if answer1 == \"paris\":\n",
        "   print(\"Correct!\")\n",
        "   score += 1\n",
        "else:\n",
        "   print(\"Incorrect! The answer is Paris.\")\n",
        "\n",
        "# Question 2\n",
        "answer2 = input(\"2) What is 5 + 7? \")\n",
        "if answer2 == \"12\":\n",
        "   print(\"Correct!\")\n",
        "   score += 1\n",
        "else:\n",
        "   print(\"Incorrect! The answer is 12.\")\n",
        "\n",
        "# Question 3 (elif example)\n",
        "answer3 = input(\"3) Which planet is known as the Red Planet? \").lower()\n",
        "if answer3 == \"mars\":\n",
        "   print(\"Correct!\")\n",
        "   score += 1\n",
        "elif answer3 == \"jupiter\":\n",
        "   print(\"Not quite! Jupiter is the largest planet, not the red one.\")\n",
        "else:\n",
        "   print(\" Incorrect! The answer is Mars.\")\n",
        "\n",
        "# Final score\n",
        "print(\"\\nYou got\", score, \"out of 3 correct.\")\n",
        "if score == 3:\n",
        "   print(\"Excellent job!\")\n",
        "elif score == 2:\n",
        "   print(\"Good work, but you can do even better!\")\n",
        "else:\n",
        "   print(\"Keep practising!\")\n",
        ""
      ]
    },
    {
      "cell_type": "code",
      "source": [
        "import string\n",
        "\n",
        "password = input(\"Enter your password: \")\n",
        "\n",
        "# Conditions\n",
        "has_letter = any(char.isalpha() for char in password)\n",
        "has_number = any(char.isdigit() for char in password)\n",
        "has_special = any(char in string.punctuation for char in password)\n",
        "is_long_enough = len(password) >= 8\n",
        "\n",
        "if is_long_enough and has_letter and has_number and has_special:\n",
        "   print(\"Password is valid.\")\n",
        "else:\n",
        "   print(\"Password must be at least 8 characters long and contain letters, numbers, and special characters.\")\n",
        ""
      ],
      "metadata": {
        "colab": {
          "base_uri": "https://localhost:8080/"
        },
        "id": "UyxntxlrUFz3",
        "outputId": "6581a23f-1ba7-4404-a178-6f68e072859f"
      },
      "execution_count": 2,
      "outputs": [
        {
          "output_type": "stream",
          "name": "stdout",
          "text": [
            "Enter your password: samuel123&\n",
            "Password is valid.\n"
          ]
        }
      ]
    }
  ]
}