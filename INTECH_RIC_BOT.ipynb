{
  "cells": [
    {
      "cell_type": "markdown",
      "metadata": {
        "id": "view-in-github",
        "colab_type": "text"
      },
      "source": [
        "<a href=\"https://colab.research.google.com/github/osimo2003/data-science/blob/main/INTECH_RIC_BOT.ipynb\" target=\"_parent\"><img src=\"https://colab.research.google.com/assets/colab-badge.svg\" alt=\"Open In Colab\"/></a>"
      ]
    },
    {
      "cell_type": "code",
      "execution_count": null,
      "metadata": {
        "colab": {
          "base_uri": "https://localhost:8080/"
        },
        "id": "PEYVSMD_quab",
        "outputId": "37666c52-1c3a-4253-d1d2-18cd993afe71"
      },
      "outputs": [
        {
          "output_type": "stream",
          "name": "stdout",
          "text": [
            "🤖 Welcome to INTECH R&I Consortium AI Chatbot!\n"
          ]
        }
      ],
      "source": [
        "# 📌 AI Chatbot for INTECH R&I Consortium (Text-based, No API needed)\n",
        "\n",
        "def chatbot(user_input):\n",
        "    user_input = user_input.lower()\n",
        "\n",
        "    if any(keyword in user_input for keyword in [\"primary\", \"ks1\", \"ks2\"]):\n",
        "        return \"Yes, we offer personalised learning support for Key Stage 1 and 2 pupils, including revision sessions, assessments, and homework help.\"\n",
        "    elif any(keyword in user_input for keyword in [\"what makes\", \"different\", \"unique\"]):\n",
        "        return \"We're managed by PGCE-trained tutors, all DBS qualified. We provide small group tutoring, one-on-one sessions, and digital skills support.\"\n",
        "    elif any(keyword in user_input for keyword in [\"gcse\", \"ks3\", \"ks4\", \"a level\", \"adult\"]):\n",
        "        return \"Absolutely! We support learners in Key Stage 3 and 4, GCSE, A-Level programmes, and even Adult Education.\"\n",
        "    elif any(keyword in user_input for keyword in [\"contact\", \"speak\", \"more info\"]):\n",
        "        return \"Sure! Call 07368 974658 or 07943 065351, or email support@intechric.com for more information.\"\n",
        "    elif any(keyword in user_input for keyword in [\"bye\", \"exit\", \"quit\"]):\n",
        "        return \"Goodbye! Thank you for visiting INTECH R and I Consortium.\"\n",
        "    else:\n",
        "        return \"I'm sorry, could you please rephrase that or ask something else about our services?\"\n",
        "\n",
        "# 🔁 Loop to test the chatbot\n",
        "print(\"🤖 Welcome to INTECH R&I Consortium AI Chatbot!\")\n",
        "while True:\n",
        "    user_input = input(\"You: \")\n",
        "    response = chatbot(user_input)\n",
        "    print(\"Bot:\", response)\n",
        "    if \"goodbye\" in response.lower():\n",
        "        break\n"
      ]
    }
  ],
  "metadata": {
    "colab": {
      "provenance": [],
      "authorship_tag": "ABX9TyPyg85s9jYvShMKRZJAqrRx",
      "include_colab_link": true
    },
    "kernelspec": {
      "display_name": "Python 3",
      "name": "python3"
    },
    "language_info": {
      "name": "python"
    }
  },
  "nbformat": 4,
  "nbformat_minor": 0
}