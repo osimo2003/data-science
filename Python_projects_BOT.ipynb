{
  "nbformat": 4,
  "nbformat_minor": 0,
  "metadata": {
    "colab": {
      "provenance": [],
      "authorship_tag": "ABX9TyPSlfrlrvsrHZqI5P7IyzJk",
      "include_colab_link": true
    },
    "kernelspec": {
      "name": "python3",
      "display_name": "Python 3"
    },
    "language_info": {
      "name": "python"
    }
  },
  "cells": [
    {
      "cell_type": "markdown",
      "metadata": {
        "id": "view-in-github",
        "colab_type": "text"
      },
      "source": [
        "<a href=\"https://colab.research.google.com/github/osimo2003/data-science/blob/main/Python_projects_BOT.ipynb\" target=\"_parent\"><img src=\"https://colab.research.google.com/assets/colab-badge.svg\" alt=\"Open In Colab\"/></a>"
      ]
    },
    {
      "cell_type": "code",
      "execution_count": 1,
      "metadata": {
        "colab": {
          "base_uri": "https://localhost:8080/"
        },
        "id": "iMdnRElyLFGd",
        "outputId": "31107826-db18-440e-c591-57dc49336241"
      },
      "outputs": [
        {
          "output_type": "stream",
          "name": "stdout",
          "text": [
            "Welcome to the Quiz Bot!\n",
            "Answer the questions and see your score!\n",
            "\n",
            "1) What is the capital of France? Paris\n",
            "Correct!\n",
            "2) What is 5 + 7? 12\n",
            "Correct!\n",
            "3) Which planet is known as the Red Planet? jupiter\n",
            "Not quite! Jupiter is the largest planet, not the red one.\n",
            "\n",
            "You got 2 out of 3 correct.\n",
            "Good work, but you can do even better!\n"
          ]
        }
      ],
      "source": [
        "print(\"Welcome to the Quiz Bot!\")\n",
        "print(\"Answer the questions and see your score!\\n\")\n",
        "\n",
        "score = 0  # Start with zero points\n",
        "\n",
        "# Question 1\n",
        "answer1 = input(\"1) What is the capital of France? \").lower()\n",
        "if answer1 == \"paris\":\n",
        "   print(\"Correct!\")\n",
        "   score += 1\n",
        "else:\n",
        "   print(\"Incorrect! The answer is Paris.\")\n",
        "\n",
        "# Question 2\n",
        "answer2 = input(\"2) What is 5 + 7? \")\n",
        "if answer2 == \"12\":\n",
        "   print(\"Correct!\")\n",
        "   score += 1\n",
        "else:\n",
        "   print(\"Incorrect! The answer is 12.\")\n",
        "\n",
        "# Question 3 (elif example)\n",
        "answer3 = input(\"3) Which planet is known as the Red Planet? \").lower()\n",
        "if answer3 == \"mars\":\n",
        "   print(\"Correct!\")\n",
        "   score += 1\n",
        "elif answer3 == \"jupiter\":\n",
        "   print(\"Not quite! Jupiter is the largest planet, not the red one.\")\n",
        "else:\n",
        "   print(\" Incorrect! The answer is Mars.\")\n",
        "\n",
        "# Final score\n",
        "print(\"\\nYou got\", score, \"out of 3 correct.\")\n",
        "if score == 3:\n",
        "   print(\"Excellent job!\")\n",
        "elif score == 2:\n",
        "   print(\"Good work, but you can do even better!\")\n",
        "else:\n",
        "   print(\"Keep practising!\")\n",
        ""
      ]
    }
  ]
}